{
  "cells": [
    {
      "cell_type": "markdown",
      "metadata": {
        "id": "NAIlxyS0W8cP"
      },
      "source": [
        "# Load trained model"
      ]
    },
    {
      "cell_type": "code",
      "execution_count": 1,
      "metadata": {
        "colab": {
          "base_uri": "https://localhost:8080/"
        },
        "id": "FwMK_KaWWV9n",
        "outputId": "973c8d0c-aa04-4147-8570-b1aff9bbd4b1"
      },
      "outputs": [
        {
          "name": "stdout",
          "output_type": "stream",
          "text": [
            "Mounted at /content/drive\n"
          ]
        }
      ],
      "source": [
        "from google.colab import drive\n",
        "drive.mount('/content/drive')\n",
        "path=\"/content/drive/MyDrive/Colab Notebooks/image_segmentation/\"\n",
        "path_model=\"VGG16_FCN8_CamVid_for_Semantic_Segmentation\""
      ]
    },
    {
      "cell_type": "code",
      "execution_count": 3,
      "metadata": {
        "id": "vGEfR7ZfXX2g"
      },
      "outputs": [],
      "source": [
        "import tensorflow as tf"
      ]
    },
    {
      "cell_type": "code",
      "execution_count": 4,
      "metadata": {
        "colab": {
          "base_uri": "https://localhost:8080/"
        },
        "id": "EjoTDumdW16_",
        "outputId": "5b4ea346-157c-4485-8901-1adc5a857f6f"
      },
      "outputs": [
        {
          "name": "stdout",
          "output_type": "stream",
          "text": [
            "Model: \"model_1\"\n",
            "__________________________________________________________________________________________________\n",
            " Layer (type)                   Output Shape         Param #     Connected to                     \n",
            "==================================================================================================\n",
            " input_1 (InputLayer)           [(None, 224, 224, 3  0           []                               \n",
            "                                )]                                                                \n",
            "                                                                                                  \n",
            " block1_conv1 (Conv2D)          (None, 224, 224, 64  1792        ['input_1[0][0]']                \n",
            "                                )                                                                 \n",
            "                                                                                                  \n",
            " block1_conv2 (Conv2D)          (None, 224, 224, 64  36928       ['block1_conv1[0][0]']           \n",
            "                                )                                                                 \n",
            "                                                                                                  \n",
            " block1_pool2 (MaxPooling2D)    (None, 112, 112, 64  0           ['block1_conv2[0][0]']           \n",
            "                                )                                                                 \n",
            "                                                                                                  \n",
            " block2_conv1 (Conv2D)          (None, 112, 112, 12  73856       ['block1_pool2[0][0]']           \n",
            "                                8)                                                                \n",
            "                                                                                                  \n",
            " block2_conv2 (Conv2D)          (None, 112, 112, 12  147584      ['block2_conv1[0][0]']           \n",
            "                                8)                                                                \n",
            "                                                                                                  \n",
            " block2_pool2 (MaxPooling2D)    (None, 56, 56, 128)  0           ['block2_conv2[0][0]']           \n",
            "                                                                                                  \n",
            " block3_conv1 (Conv2D)          (None, 56, 56, 256)  295168      ['block2_pool2[0][0]']           \n",
            "                                                                                                  \n",
            " block3_conv2 (Conv2D)          (None, 56, 56, 256)  590080      ['block3_conv1[0][0]']           \n",
            "                                                                                                  \n",
            " block3_conv3 (Conv2D)          (None, 56, 56, 256)  590080      ['block3_conv2[0][0]']           \n",
            "                                                                                                  \n",
            " block3_pool3 (MaxPooling2D)    (None, 28, 28, 256)  0           ['block3_conv3[0][0]']           \n",
            "                                                                                                  \n",
            " block4_conv1 (Conv2D)          (None, 28, 28, 512)  1180160     ['block3_pool3[0][0]']           \n",
            "                                                                                                  \n",
            " block4_conv2 (Conv2D)          (None, 28, 28, 512)  2359808     ['block4_conv1[0][0]']           \n",
            "                                                                                                  \n",
            " block4_conv3 (Conv2D)          (None, 28, 28, 512)  2359808     ['block4_conv2[0][0]']           \n",
            "                                                                                                  \n",
            " block4_pool3 (MaxPooling2D)    (None, 14, 14, 512)  0           ['block4_conv3[0][0]']           \n",
            "                                                                                                  \n",
            " block5_conv1 (Conv2D)          (None, 14, 14, 512)  2359808     ['block4_pool3[0][0]']           \n",
            "                                                                                                  \n",
            " block5_conv2 (Conv2D)          (None, 14, 14, 512)  2359808     ['block5_conv1[0][0]']           \n",
            "                                                                                                  \n",
            " block5_conv3 (Conv2D)          (None, 14, 14, 512)  2359808     ['block5_conv2[0][0]']           \n",
            "                                                                                                  \n",
            " block5_pool3 (MaxPooling2D)    (None, 7, 7, 512)    0           ['block5_conv3[0][0]']           \n",
            "                                                                                                  \n",
            " conv6 (Conv2D)                 (None, 7, 7, 4096)   102764544   ['block5_pool3[0][0]']           \n",
            "                                                                                                  \n",
            " conv7 (Conv2D)                 (None, 7, 7, 4096)   16781312    ['conv6[0][0]']                  \n",
            "                                                                                                  \n",
            " conv2d_transpose (Conv2DTransp  (None, 16, 16, 12)  786432      ['conv7[0][0]']                  \n",
            " ose)                                                                                             \n",
            "                                                                                                  \n",
            " cropping2d (Cropping2D)        (None, 14, 14, 12)   0           ['conv2d_transpose[0][0]']       \n",
            "                                                                                                  \n",
            " conv2d (Conv2D)                (None, 14, 14, 12)   6156        ['block4_pool3[0][0]']           \n",
            "                                                                                                  \n",
            " add (Add)                      (None, 14, 14, 12)   0           ['cropping2d[0][0]',             \n",
            "                                                                  'conv2d[0][0]']                 \n",
            "                                                                                                  \n",
            " conv2d_transpose_1 (Conv2DTran  (None, 30, 30, 12)  2304        ['add[0][0]']                    \n",
            " spose)                                                                                           \n",
            "                                                                                                  \n",
            " cropping2d_1 (Cropping2D)      (None, 28, 28, 12)   0           ['conv2d_transpose_1[0][0]']     \n",
            "                                                                                                  \n",
            " conv2d_1 (Conv2D)              (None, 28, 28, 12)   3084        ['block3_pool3[0][0]']           \n",
            "                                                                                                  \n",
            " add_1 (Add)                    (None, 28, 28, 12)   0           ['cropping2d_1[0][0]',           \n",
            "                                                                  'conv2d_1[0][0]']               \n",
            "                                                                                                  \n",
            " conv2d_transpose_2 (Conv2DTran  (None, 224, 224, 12  9216       ['add_1[0][0]']                  \n",
            " spose)                         )                                                                 \n",
            "                                                                                                  \n",
            " activation (Activation)        (None, 224, 224, 12  0           ['conv2d_transpose_2[0][0]']     \n",
            "                                )                                                                 \n",
            "                                                                                                  \n",
            "==================================================================================================\n",
            "Total params: 135,067,736\n",
            "Trainable params: 135,067,736\n",
            "Non-trainable params: 0\n",
            "__________________________________________________________________________________________________\n"
          ]
        }
      ],
      "source": [
        "# Recreate the exact same model, including its weights and the optimizer\n",
        "new_model = tf.keras.models.load_model(path+path_model)\n",
        "\n",
        "# Show the model architecture\n",
        "new_model.summary()"
      ]
    },
    {
      "cell_type": "markdown",
      "metadata": {
        "id": "GfqTy38LXEWF"
      },
      "source": [
        "# Convert TensorFlow models\n",
        "\n"
      ]
    },
    {
      "cell_type": "code",
      "execution_count": 5,
      "metadata": {
        "id": "dxANAPivW4cm"
      },
      "outputs": [],
      "source": [
        "saved_model_dir = path + path_model\n",
        "# Convert the model\n",
        "converter = tf.lite.TFLiteConverter.from_saved_model(saved_model_dir) # path to the SavedModel directory\n",
        "tflite_model = converter.convert()\n",
        "\n",
        "# Save the model.\n",
        "with open(path+'VGG16_FCN8_CamVid_for_Semantic_Segmentation.tflite', 'wb') as f:\n",
        "  f.write(tflite_model)"
      ]
    },
    {
      "cell_type": "code",
      "execution_count": null,
      "metadata": {
        "id": "lcRmrY0HY_Nh"
      },
      "outputs": [],
      "source": []
    }
  ],
  "metadata": {
    "colab": {
      "provenance": []
    },
    "kernelspec": {
      "display_name": "Python 3",
      "name": "python3"
    },
    "language_info": {
      "name": "python"
    }
  },
  "nbformat": 4,
  "nbformat_minor": 0
}
